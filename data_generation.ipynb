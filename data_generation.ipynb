{
 "cells": [
  {
   "cell_type": "markdown",
   "source": [
    "## Генератор данных для обучения\n",
    "Для генерации обычных разнообразных картинок с текстом будем использовать: https://github.com/Belval/TextRecognitionDataGenerator\n",
    "Объяснение параметров: https://github.com/Belval/TextRecognitionDataGenerator/blob/master/trdg/run.py"
   ],
   "metadata": {
    "collapsed": false
   }
  },
  {
   "cell_type": "markdown",
   "source": [
    "### Train"
   ],
   "metadata": {
    "collapsed": false
   }
  },
  {
   "cell_type": "code",
   "execution_count": 2,
   "outputs": [
    {
     "name": "stdout",
     "output_type": "stream",
     "text": [
      "2023-04-05 01:21:39.103443: I tensorflow/core/util/port.cc:110] oneDNN custom operations are on. You may see slightly different numerical results due to floating-point round-off errors from different computation orders. To turn them off, set the environment variable `TF_ENABLE_ONEDNN_OPTS=0`.\r\n",
      "2023-04-05 01:21:39.105054: I tensorflow/tsl/cuda/cudart_stub.cc:28] Could not find cuda drivers on your machine, GPU will not be used.\r\n",
      "2023-04-05 01:21:39.130298: I tensorflow/tsl/cuda/cudart_stub.cc:28] Could not find cuda drivers on your machine, GPU will not be used.\r\n",
      "2023-04-05 01:21:39.130570: I tensorflow/core/platform/cpu_feature_guard.cc:182] This TensorFlow binary is optimized to use available CPU instructions in performance-critical operations.\r\n",
      "To enable the following instructions: AVX2 AVX_VNNI FMA, in other operations, rebuild TensorFlow with the appropriate compiler flags.\r\n",
      "2023-04-05 01:21:39.640001: W tensorflow/compiler/tf2tensorrt/utils/py_utils.cc:38] TF-TRT Warning: Could not find TensorRT\r\n",
      "100%|████████████████████████████████████| 20000/20000 [00:33<00:00, 597.06it/s]\r\n"
     ]
    }
   ],
   "source": [
    "!trdg -l en -c 20000 -t 14 -rs -rbl -b 1 -na 2 -r -sw 2.0 -w 2 -f 64 -let -num --output_dir ./synthetic_dataset/train"
   ],
   "metadata": {
    "collapsed": false,
    "ExecuteTime": {
     "start_time": "2023-04-05T01:21:38.590864Z",
     "end_time": "2023-04-05T01:22:15.715590Z"
    }
   }
  },
  {
   "cell_type": "markdown",
   "source": [
    "### Validation (full augmented)"
   ],
   "metadata": {
    "collapsed": false
   }
  },
  {
   "cell_type": "code",
   "execution_count": 5,
   "outputs": [
    {
     "name": "stdout",
     "output_type": "stream",
     "text": [
      "2023-04-05 02:19:54.052392: I tensorflow/core/util/port.cc:110] oneDNN custom operations are on. You may see slightly different numerical results due to floating-point round-off errors from different computation orders. To turn them off, set the environment variable `TF_ENABLE_ONEDNN_OPTS=0`.\r\n",
      "2023-04-05 02:19:54.053793: I tensorflow/tsl/cuda/cudart_stub.cc:28] Could not find cuda drivers on your machine, GPU will not be used.\r\n",
      "2023-04-05 02:19:54.078014: I tensorflow/tsl/cuda/cudart_stub.cc:28] Could not find cuda drivers on your machine, GPU will not be used.\r\n",
      "2023-04-05 02:19:54.078273: I tensorflow/core/platform/cpu_feature_guard.cc:182] This TensorFlow binary is optimized to use available CPU instructions in performance-critical operations.\r\n",
      "To enable the following instructions: AVX2 AVX_VNNI FMA, in other operations, rebuild TensorFlow with the appropriate compiler flags.\r\n",
      "2023-04-05 02:19:54.438230: W tensorflow/compiler/tf2tensorrt/utils/py_utils.cc:38] TF-TRT Warning: Could not find TensorRT\r\n",
      "100%|██████████████████████████████████████| 1500/1500 [00:02<00:00, 727.26it/s]\r\n"
     ]
    }
   ],
   "source": [
    "!trdg -l en -c 1500 -t 14 -rs -rbl -b 1 -na 2 -r -sw 2.0 -w 2 -f 64 -let -num --output_dir ./synthetic_dataset/val"
   ],
   "metadata": {
    "collapsed": false,
    "ExecuteTime": {
     "start_time": "2023-04-05T02:19:53.647539Z",
     "end_time": "2023-04-05T02:19:58.581477Z"
    }
   }
  },
  {
   "cell_type": "markdown",
   "source": [
    "#### Transform val set to train format once"
   ],
   "metadata": {
    "collapsed": false
   }
  },
  {
   "cell_type": "code",
   "execution_count": 6,
   "outputs": [
    {
     "data": {
      "text/plain": "  0%|          | 0/900 [00:00<?, ?it/s]",
      "application/vnd.jupyter.widget-view+json": {
       "version_major": 2,
       "version_minor": 0,
       "model_id": "8dffdd218cae40298029ccfb446c84b3"
      }
     },
     "metadata": {},
     "output_type": "display_data"
    }
   ],
   "source": [
    "from utils import augment_dataset\n",
    "augment_dataset('./synthetic_dataset/val', 0.6)"
   ],
   "metadata": {
    "collapsed": false,
    "ExecuteTime": {
     "start_time": "2023-04-05T02:19:58.343124Z",
     "end_time": "2023-04-05T02:20:02.129285Z"
    }
   }
  },
  {
   "cell_type": "markdown",
   "source": [
    "### Test (60% augmented, 40% normal)"
   ],
   "metadata": {
    "collapsed": false
   }
  },
  {
   "cell_type": "code",
   "execution_count": 7,
   "outputs": [
    {
     "name": "stdout",
     "output_type": "stream",
     "text": [
      "2023-04-05 02:20:02.538281: I tensorflow/core/util/port.cc:110] oneDNN custom operations are on. You may see slightly different numerical results due to floating-point round-off errors from different computation orders. To turn them off, set the environment variable `TF_ENABLE_ONEDNN_OPTS=0`.\r\n",
      "2023-04-05 02:20:02.539607: I tensorflow/tsl/cuda/cudart_stub.cc:28] Could not find cuda drivers on your machine, GPU will not be used.\r\n",
      "2023-04-05 02:20:02.563677: I tensorflow/tsl/cuda/cudart_stub.cc:28] Could not find cuda drivers on your machine, GPU will not be used.\r\n",
      "2023-04-05 02:20:02.563952: I tensorflow/core/platform/cpu_feature_guard.cc:182] This TensorFlow binary is optimized to use available CPU instructions in performance-critical operations.\r\n",
      "To enable the following instructions: AVX2 AVX_VNNI FMA, in other operations, rebuild TensorFlow with the appropriate compiler flags.\r\n",
      "2023-04-05 02:20:02.916223: W tensorflow/compiler/tf2tensorrt/utils/py_utils.cc:38] TF-TRT Warning: Could not find TensorRT\r\n",
      "100%|██████████████████████████████████████| 5000/5000 [00:06<00:00, 802.26it/s]\r\n"
     ]
    }
   ],
   "source": [
    "!trdg -l en -c 5000 -t 14 -rs -rbl -b 1 -na 2 -r -sw 2.0 -w 2 -f 64 -let -num --output_dir ./synthetic_dataset/test"
   ],
   "metadata": {
    "collapsed": false,
    "ExecuteTime": {
     "start_time": "2023-04-05T02:20:02.131815Z",
     "end_time": "2023-04-05T02:20:10.922224Z"
    }
   }
  },
  {
   "cell_type": "markdown",
   "source": [
    "#### Transform part of test set to train format once"
   ],
   "metadata": {
    "collapsed": false
   }
  },
  {
   "cell_type": "code",
   "execution_count": 8,
   "outputs": [
    {
     "data": {
      "text/plain": "  0%|          | 0/3000 [00:00<?, ?it/s]",
      "application/vnd.jupyter.widget-view+json": {
       "version_major": 2,
       "version_minor": 0,
       "model_id": "46147aefd31448ac94548072842ff63c"
      }
     },
     "metadata": {},
     "output_type": "display_data"
    }
   ],
   "source": [
    "from utils import augment_dataset\n",
    "augment_dataset('./synthetic_dataset/test', 0.6)"
   ],
   "metadata": {
    "collapsed": false,
    "ExecuteTime": {
     "start_time": "2023-04-05T02:20:10.927120Z",
     "end_time": "2023-04-05T02:20:21.777959Z"
    }
   }
  }
 ],
 "metadata": {
  "kernelspec": {
   "display_name": "Python 3",
   "language": "python",
   "name": "python3"
  },
  "language_info": {
   "codemirror_mode": {
    "name": "ipython",
    "version": 2
   },
   "file_extension": ".py",
   "mimetype": "text/x-python",
   "name": "python",
   "nbconvert_exporter": "python",
   "pygments_lexer": "ipython2",
   "version": "2.7.6"
  }
 },
 "nbformat": 4,
 "nbformat_minor": 0
}
