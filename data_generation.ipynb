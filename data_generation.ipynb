{
 "cells": [
  {
   "cell_type": "markdown",
   "source": [
    "## Генератор данных для обучения\n",
    "Для генерации обычных разнообразных картинок с текстом будем использовать: https://github.com/Belval/TextRecognitionDataGenerator\n",
    "Объяснение параметров: https://github.com/Belval/TextRecognitionDataGenerator/blob/master/trdg/run.py"
   ],
   "metadata": {
    "collapsed": false
   }
  },
  {
   "cell_type": "markdown",
   "source": [
    "### Train"
   ],
   "metadata": {
    "collapsed": false
   }
  },
  {
   "cell_type": "code",
   "execution_count": 2,
   "outputs": [
    {
     "name": "stdout",
     "output_type": "stream",
     "text": [
      "2023-04-05 01:21:39.103443: I tensorflow/core/util/port.cc:110] oneDNN custom operations are on. You may see slightly different numerical results due to floating-point round-off errors from different computation orders. To turn them off, set the environment variable `TF_ENABLE_ONEDNN_OPTS=0`.\r\n",
      "2023-04-05 01:21:39.105054: I tensorflow/tsl/cuda/cudart_stub.cc:28] Could not find cuda drivers on your machine, GPU will not be used.\r\n",
      "2023-04-05 01:21:39.130298: I tensorflow/tsl/cuda/cudart_stub.cc:28] Could not find cuda drivers on your machine, GPU will not be used.\r\n",
      "2023-04-05 01:21:39.130570: I tensorflow/core/platform/cpu_feature_guard.cc:182] This TensorFlow binary is optimized to use available CPU instructions in performance-critical operations.\r\n",
      "To enable the following instructions: AVX2 AVX_VNNI FMA, in other operations, rebuild TensorFlow with the appropriate compiler flags.\r\n",
      "2023-04-05 01:21:39.640001: W tensorflow/compiler/tf2tensorrt/utils/py_utils.cc:38] TF-TRT Warning: Could not find TensorRT\r\n",
      "100%|████████████████████████████████████| 20000/20000 [00:33<00:00, 597.06it/s]\r\n"
     ]
    }
   ],
   "source": [
    "!trdg -l en -c 20000 -t 14 -rs -rbl -b 1 -na 2 -r -sw 2.0 -w 2 -f 64 -let -num --output_dir ./synthetic_dataset/train"
   ],
   "metadata": {
    "collapsed": false,
    "ExecuteTime": {
     "start_time": "2023-04-05T01:21:38.590864Z",
     "end_time": "2023-04-05T01:22:15.715590Z"
    }
   }
  },
  {
   "cell_type": "markdown",
   "source": [
    "### Validation (full augmented)"
   ],
   "metadata": {
    "collapsed": false
   }
  },
  {
   "cell_type": "code",
   "execution_count": 2,
   "outputs": [
    {
     "name": "stdout",
     "output_type": "stream",
     "text": [
      "2023-04-02 18:50:19.209809: I tensorflow/core/util/port.cc:110] oneDNN custom operations are on. You may see slightly different numerical results due to floating-point round-off errors from different computation orders. To turn them off, set the environment variable `TF_ENABLE_ONEDNN_OPTS=0`.\r\n",
      "2023-04-02 18:50:19.211241: I tensorflow/tsl/cuda/cudart_stub.cc:28] Could not find cuda drivers on your machine, GPU will not be used.\r\n",
      "2023-04-02 18:50:19.238372: I tensorflow/tsl/cuda/cudart_stub.cc:28] Could not find cuda drivers on your machine, GPU will not be used.\r\n",
      "2023-04-02 18:50:19.238670: I tensorflow/core/platform/cpu_feature_guard.cc:182] This TensorFlow binary is optimized to use available CPU instructions in performance-critical operations.\r\n",
      "To enable the following instructions: AVX2 AVX_VNNI FMA, in other operations, rebuild TensorFlow with the appropriate compiler flags.\r\n",
      "2023-04-02 18:50:19.590043: W tensorflow/compiler/tf2tensorrt/utils/py_utils.cc:38] TF-TRT Warning: Could not find TensorRT\r\n",
      "100%|██████████████████████████████████████| 1500/1500 [00:02<00:00, 511.12it/s]\r\n"
     ]
    }
   ],
   "source": [
    "!trdg -l en -c 1500 -t 14 -rs -rbl -b 1 -na 2 -r -sw 2.0 -w 2 -f 64 -let -num --output_dir ./synthetic_dataset/val"
   ],
   "metadata": {
    "collapsed": false,
    "ExecuteTime": {
     "start_time": "2023-04-02T18:50:18.792077Z",
     "end_time": "2023-04-02T18:50:24.251922Z"
    }
   }
  },
  {
   "cell_type": "markdown",
   "source": [
    "#### Transform val set to train format once"
   ],
   "metadata": {
    "collapsed": false
   }
  },
  {
   "cell_type": "code",
   "execution_count": 3,
   "outputs": [
    {
     "data": {
      "text/plain": "  0%|          | 0/1500 [00:00<?, ?it/s]",
      "application/vnd.jupyter.widget-view+json": {
       "version_major": 2,
       "version_minor": 0,
       "model_id": "1f38d45f1c52419aa534951ddeee9e1d"
      }
     },
     "metadata": {},
     "output_type": "display_data"
    }
   ],
   "source": [
    "from utils import augment_dataset\n",
    "augment_dataset('./synthetic_dataset/val', 1.0)"
   ],
   "metadata": {
    "collapsed": false,
    "ExecuteTime": {
     "start_time": "2023-04-02T18:52:03.027513Z",
     "end_time": "2023-04-02T18:52:09.612772Z"
    }
   }
  },
  {
   "cell_type": "markdown",
   "source": [
    "### Test (60% augmented, 40% normal)"
   ],
   "metadata": {
    "collapsed": false
   }
  },
  {
   "cell_type": "code",
   "execution_count": 3,
   "outputs": [
    {
     "name": "stdout",
     "output_type": "stream",
     "text": [
      "2023-01-25 13:47:57.287011: W tensorflow/stream_executor/platform/default/dso_loader.cc:64] Could not load dynamic library 'libcudart.so.11.0'; dlerror: libcudart.so.11.0: cannot open shared object file: No such file or directory; LD_LIBRARY_PATH: /home/hivaze/miniconda3/envs/torch/lib/python3.9/site-packages/cv2/../../lib64:\r\n",
      "2023-01-25 13:47:57.287032: I tensorflow/stream_executor/cuda/cudart_stub.cc:29] Ignore above cudart dlerror if you do not have a GPU set up on your machine.\r\n",
      "100%|██████████████████████████████████████| 4000/4000 [00:06<00:00, 591.82it/s]\r\n"
     ]
    }
   ],
   "source": [
    "!trdg -l en -c 4000 -t 14 -rs -rbl -b 1 -na 2 -r -sw 2.0 -w 2 -f 64 -let -num --output_dir ./synthetic_dataset/test"
   ],
   "metadata": {
    "collapsed": false
   }
  },
  {
   "cell_type": "markdown",
   "source": [
    "#### Transform part of test set to train format once"
   ],
   "metadata": {
    "collapsed": false
   }
  },
  {
   "cell_type": "code",
   "execution_count": 4,
   "outputs": [
    {
     "data": {
      "text/plain": "  0%|          | 0/2400 [00:00<?, ?it/s]",
      "application/vnd.jupyter.widget-view+json": {
       "version_major": 2,
       "version_minor": 0,
       "model_id": "a70e8279a8664b70946d108783d86cda"
      }
     },
     "metadata": {},
     "output_type": "display_data"
    }
   ],
   "source": [
    "from utils import augment_dataset\n",
    "augment_dataset('./synthetic_dataset/test', 0.6)"
   ],
   "metadata": {
    "collapsed": false,
    "ExecuteTime": {
     "start_time": "2023-04-02T18:52:40.100245Z",
     "end_time": "2023-04-02T18:52:49.477524Z"
    }
   }
  }
 ],
 "metadata": {
  "kernelspec": {
   "display_name": "Python 3",
   "language": "python",
   "name": "python3"
  },
  "language_info": {
   "codemirror_mode": {
    "name": "ipython",
    "version": 2
   },
   "file_extension": ".py",
   "mimetype": "text/x-python",
   "name": "python",
   "nbconvert_exporter": "python",
   "pygments_lexer": "ipython2",
   "version": "2.7.6"
  }
 },
 "nbformat": 4,
 "nbformat_minor": 0
}
