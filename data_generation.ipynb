{
 "cells": [
  {
   "cell_type": "markdown",
   "source": [
    "## Генератор данных для обучения\n",
    "Для генерации обычных разнообразных картинок с текстом будем использовать: https://github.com/Belval/TextRecognitionDataGenerator\n",
    "Объяснение параметров: https://github.com/Belval/TextRecognitionDataGenerator/blob/master/trdg/run.py"
   ],
   "metadata": {
    "collapsed": false
   }
  },
  {
   "cell_type": "markdown",
   "source": [
    "### Train"
   ],
   "metadata": {
    "collapsed": false
   }
  },
  {
   "cell_type": "code",
   "execution_count": 2,
   "outputs": [
    {
     "name": "stdout",
     "output_type": "stream",
     "text": [
      "2023-04-05 01:21:39.103443: I tensorflow/core/util/port.cc:110] oneDNN custom operations are on. You may see slightly different numerical results due to floating-point round-off errors from different computation orders. To turn them off, set the environment variable `TF_ENABLE_ONEDNN_OPTS=0`.\r\n",
      "2023-04-05 01:21:39.105054: I tensorflow/tsl/cuda/cudart_stub.cc:28] Could not find cuda drivers on your machine, GPU will not be used.\r\n",
      "2023-04-05 01:21:39.130298: I tensorflow/tsl/cuda/cudart_stub.cc:28] Could not find cuda drivers on your machine, GPU will not be used.\r\n",
      "2023-04-05 01:21:39.130570: I tensorflow/core/platform/cpu_feature_guard.cc:182] This TensorFlow binary is optimized to use available CPU instructions in performance-critical operations.\r\n",
      "To enable the following instructions: AVX2 AVX_VNNI FMA, in other operations, rebuild TensorFlow with the appropriate compiler flags.\r\n",
      "2023-04-05 01:21:39.640001: W tensorflow/compiler/tf2tensorrt/utils/py_utils.cc:38] TF-TRT Warning: Could not find TensorRT\r\n",
      "100%|████████████████████████████████████| 20000/20000 [00:33<00:00, 597.06it/s]\r\n"
     ]
    }
   ],
   "source": [
    "!trdg -l en -c 20000 -t 14 -rs -rbl -b 1 -na 2 -r -sw 2.0 -w 2 -f 64 -let -num --output_dir ./synthetic_dataset/train"
   ],
   "metadata": {
    "collapsed": false,
    "ExecuteTime": {
     "start_time": "2023-04-05T01:21:38.590864Z",
     "end_time": "2023-04-05T01:22:15.715590Z"
    }
   }
  },
  {
   "cell_type": "markdown",
   "source": [
    "### Validation (full augmented)"
   ],
   "metadata": {
    "collapsed": false
   }
  },
  {
   "cell_type": "code",
   "execution_count": 1,
   "outputs": [
    {
     "name": "stdout",
     "output_type": "stream",
     "text": [
      "2023-04-05 17:34:03.935981: I tensorflow/core/util/port.cc:110] oneDNN custom operations are on. You may see slightly different numerical results due to floating-point round-off errors from different computation orders. To turn them off, set the environment variable `TF_ENABLE_ONEDNN_OPTS=0`.\r\n",
      "2023-04-05 17:34:03.967767: I tensorflow/tsl/cuda/cudart_stub.cc:28] Could not find cuda drivers on your machine, GPU will not be used.\r\n",
      "2023-04-05 17:34:04.124253: I tensorflow/tsl/cuda/cudart_stub.cc:28] Could not find cuda drivers on your machine, GPU will not be used.\r\n",
      "2023-04-05 17:34:04.124803: I tensorflow/core/platform/cpu_feature_guard.cc:182] This TensorFlow binary is optimized to use available CPU instructions in performance-critical operations.\r\n",
      "To enable the following instructions: AVX2 AVX_VNNI FMA, in other operations, rebuild TensorFlow with the appropriate compiler flags.\r\n",
      "2023-04-05 17:34:04.691575: W tensorflow/compiler/tf2tensorrt/utils/py_utils.cc:38] TF-TRT Warning: Could not find TensorRT\r\n",
      "100%|██████████████████████████████████████| 1500/1500 [00:02<00:00, 703.20it/s]\r\n"
     ]
    }
   ],
   "source": [
    "!trdg -l en -c 1500 -t 14 -rs -rbl -b 1 -na 2 -r -sw 2.0 -w 2 -f 64 -let -num --output_dir ./synthetic_dataset/val"
   ],
   "metadata": {
    "collapsed": false,
    "ExecuteTime": {
     "start_time": "2023-04-05T17:34:03.249355Z",
     "end_time": "2023-04-05T17:34:09.522821Z"
    }
   }
  },
  {
   "cell_type": "markdown",
   "source": [
    "#### Transform val set to train format once"
   ],
   "metadata": {
    "collapsed": false
   }
  },
  {
   "cell_type": "code",
   "execution_count": 2,
   "outputs": [
    {
     "data": {
      "text/plain": "  0%|          | 0/1500 [00:00<?, ?it/s]",
      "application/vnd.jupyter.widget-view+json": {
       "version_major": 2,
       "version_minor": 0,
       "model_id": "da748c941f6f4e16aad058c61af800b0"
      }
     },
     "metadata": {},
     "output_type": "display_data"
    }
   ],
   "source": [
    "from utils import augment_dataset\n",
    "augment_dataset('./synthetic_dataset/val', 1.0)"
   ],
   "metadata": {
    "collapsed": false,
    "ExecuteTime": {
     "start_time": "2023-04-05T17:34:16.443792Z",
     "end_time": "2023-04-05T17:34:25.411841Z"
    }
   }
  },
  {
   "cell_type": "markdown",
   "source": [
    "### Test (augmented & normal variants)"
   ],
   "metadata": {
    "collapsed": false
   }
  },
  {
   "cell_type": "code",
   "execution_count": 3,
   "outputs": [
    {
     "name": "stdout",
     "output_type": "stream",
     "text": [
      "2023-04-05 17:34:39.489322: I tensorflow/core/util/port.cc:110] oneDNN custom operations are on. You may see slightly different numerical results due to floating-point round-off errors from different computation orders. To turn them off, set the environment variable `TF_ENABLE_ONEDNN_OPTS=0`.\r\n",
      "2023-04-05 17:34:39.490826: I tensorflow/tsl/cuda/cudart_stub.cc:28] Could not find cuda drivers on your machine, GPU will not be used.\r\n",
      "2023-04-05 17:34:39.518261: I tensorflow/tsl/cuda/cudart_stub.cc:28] Could not find cuda drivers on your machine, GPU will not be used.\r\n",
      "2023-04-05 17:34:39.518574: I tensorflow/core/platform/cpu_feature_guard.cc:182] This TensorFlow binary is optimized to use available CPU instructions in performance-critical operations.\r\n",
      "To enable the following instructions: AVX2 AVX_VNNI FMA, in other operations, rebuild TensorFlow with the appropriate compiler flags.\r\n",
      "2023-04-05 17:34:40.005710: W tensorflow/compiler/tf2tensorrt/utils/py_utils.cc:38] TF-TRT Warning: Could not find TensorRT\r\n",
      "100%|██████████████████████████████████████| 5000/5000 [00:06<00:00, 793.38it/s]\r\n"
     ]
    }
   ],
   "source": [
    "!trdg -l en -c 5000 -t 14 -rs -rbl -b 1 -na 2 -r -sw 2.0 -w 2 -f 64 -let -num --output_dir ./synthetic_dataset/test_clean"
   ],
   "metadata": {
    "collapsed": false,
    "ExecuteTime": {
     "start_time": "2023-04-05T17:34:38.905525Z",
     "end_time": "2023-04-05T17:34:48.711385Z"
    }
   }
  },
  {
   "cell_type": "code",
   "execution_count": 4,
   "outputs": [
    {
     "name": "stdout",
     "output_type": "stream",
     "text": [
      "2023-04-05 17:34:49.221737: I tensorflow/core/util/port.cc:110] oneDNN custom operations are on. You may see slightly different numerical results due to floating-point round-off errors from different computation orders. To turn them off, set the environment variable `TF_ENABLE_ONEDNN_OPTS=0`.\r\n",
      "2023-04-05 17:34:49.223110: I tensorflow/tsl/cuda/cudart_stub.cc:28] Could not find cuda drivers on your machine, GPU will not be used.\r\n",
      "2023-04-05 17:34:49.248339: I tensorflow/tsl/cuda/cudart_stub.cc:28] Could not find cuda drivers on your machine, GPU will not be used.\r\n",
      "2023-04-05 17:34:49.248610: I tensorflow/core/platform/cpu_feature_guard.cc:182] This TensorFlow binary is optimized to use available CPU instructions in performance-critical operations.\r\n",
      "To enable the following instructions: AVX2 AVX_VNNI FMA, in other operations, rebuild TensorFlow with the appropriate compiler flags.\r\n",
      "2023-04-05 17:34:49.751467: W tensorflow/compiler/tf2tensorrt/utils/py_utils.cc:38] TF-TRT Warning: Could not find TensorRT\r\n",
      "100%|██████████████████████████████████████| 5000/5000 [00:09<00:00, 550.49it/s]\r\n"
     ]
    }
   ],
   "source": [
    "!trdg -l en -c 5000 -t 14 -rs -rbl -b 1 -na 2 -r -sw 2.0 -w 2 -f 64 -let -num --output_dir ./synthetic_dataset/test_captchas"
   ],
   "metadata": {
    "collapsed": false,
    "ExecuteTime": {
     "start_time": "2023-04-05T17:34:48.712032Z",
     "end_time": "2023-04-05T17:35:00.918173Z"
    }
   }
  },
  {
   "cell_type": "markdown",
   "source": [
    "#### Transform part of test set to train format once"
   ],
   "metadata": {
    "collapsed": false
   }
  },
  {
   "cell_type": "code",
   "execution_count": 5,
   "outputs": [
    {
     "data": {
      "text/plain": "  0%|          | 0/5000 [00:00<?, ?it/s]",
      "application/vnd.jupyter.widget-view+json": {
       "version_major": 2,
       "version_minor": 0,
       "model_id": "0562c68f39484f2dbc98331e6249cdc6"
      }
     },
     "metadata": {},
     "output_type": "display_data"
    }
   ],
   "source": [
    "from utils import augment_dataset\n",
    "augment_dataset('./synthetic_dataset/test_captchas', 1.0)"
   ],
   "metadata": {
    "collapsed": false,
    "ExecuteTime": {
     "start_time": "2023-04-05T17:35:00.921717Z",
     "end_time": "2023-04-05T17:35:26.581387Z"
    }
   }
  }
 ],
 "metadata": {
  "kernelspec": {
   "display_name": "Python 3",
   "language": "python",
   "name": "python3"
  },
  "language_info": {
   "codemirror_mode": {
    "name": "ipython",
    "version": 2
   },
   "file_extension": ".py",
   "mimetype": "text/x-python",
   "name": "python",
   "nbconvert_exporter": "python",
   "pygments_lexer": "ipython2",
   "version": "2.7.6"
  }
 },
 "nbformat": 4,
 "nbformat_minor": 0
}
