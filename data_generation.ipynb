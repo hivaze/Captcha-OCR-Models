{
 "cells": [
  {
   "cell_type": "markdown",
   "source": [
    "## Генератор данных для обучения\n",
    "Для генерации обычных разнообразных картинок с текстом будем использовать: https://github.com/Belval/TextRecognitionDataGenerator\n",
    "Объяснение параметров: https://github.com/Belval/TextRecognitionDataGenerator/blob/master/trdg/run.py"
   ],
   "metadata": {
    "collapsed": false
   }
  },
  {
   "cell_type": "markdown",
   "source": [
    "### Train"
   ],
   "metadata": {
    "collapsed": false
   }
  },
  {
   "cell_type": "code",
   "execution_count": 2,
   "outputs": [
    {
     "name": "stdout",
     "output_type": "stream",
     "text": [
      "2023-04-05 01:21:39.103443: I tensorflow/core/util/port.cc:110] oneDNN custom operations are on. You may see slightly different numerical results due to floating-point round-off errors from different computation orders. To turn them off, set the environment variable `TF_ENABLE_ONEDNN_OPTS=0`.\r\n",
      "2023-04-05 01:21:39.105054: I tensorflow/tsl/cuda/cudart_stub.cc:28] Could not find cuda drivers on your machine, GPU will not be used.\r\n",
      "2023-04-05 01:21:39.130298: I tensorflow/tsl/cuda/cudart_stub.cc:28] Could not find cuda drivers on your machine, GPU will not be used.\r\n",
      "2023-04-05 01:21:39.130570: I tensorflow/core/platform/cpu_feature_guard.cc:182] This TensorFlow binary is optimized to use available CPU instructions in performance-critical operations.\r\n",
      "To enable the following instructions: AVX2 AVX_VNNI FMA, in other operations, rebuild TensorFlow with the appropriate compiler flags.\r\n",
      "2023-04-05 01:21:39.640001: W tensorflow/compiler/tf2tensorrt/utils/py_utils.cc:38] TF-TRT Warning: Could not find TensorRT\r\n",
      "100%|████████████████████████████████████| 20000/20000 [00:33<00:00, 597.06it/s]\r\n"
     ]
    }
   ],
   "source": [
    "!trdg -l en -c 20000 -t 14 -rs -rbl -b 1 -na 2 -r -sw 2.0 -w 2 -f 64 -let -num --output_dir ./synthetic_dataset/train"
   ],
   "metadata": {
    "collapsed": false,
    "ExecuteTime": {
     "start_time": "2023-04-05T01:21:38.590864Z",
     "end_time": "2023-04-05T01:22:15.715590Z"
    }
   }
  },
  {
   "cell_type": "markdown",
   "source": [
    "### Validation (full augmented)"
   ],
   "metadata": {
    "collapsed": false
   }
  },
  {
   "cell_type": "code",
   "execution_count": 3,
   "outputs": [
    {
     "name": "stdout",
     "output_type": "stream",
     "text": [
      "2023-04-05 03:11:31.586141: I tensorflow/core/util/port.cc:110] oneDNN custom operations are on. You may see slightly different numerical results due to floating-point round-off errors from different computation orders. To turn them off, set the environment variable `TF_ENABLE_ONEDNN_OPTS=0`.\r\n",
      "2023-04-05 03:11:31.587505: I tensorflow/tsl/cuda/cudart_stub.cc:28] Could not find cuda drivers on your machine, GPU will not be used.\r\n",
      "2023-04-05 03:11:31.611909: I tensorflow/tsl/cuda/cudart_stub.cc:28] Could not find cuda drivers on your machine, GPU will not be used.\r\n",
      "2023-04-05 03:11:31.612200: I tensorflow/core/platform/cpu_feature_guard.cc:182] This TensorFlow binary is optimized to use available CPU instructions in performance-critical operations.\r\n",
      "To enable the following instructions: AVX2 AVX_VNNI FMA, in other operations, rebuild TensorFlow with the appropriate compiler flags.\r\n",
      "2023-04-05 03:11:31.981268: W tensorflow/compiler/tf2tensorrt/utils/py_utils.cc:38] TF-TRT Warning: Could not find TensorRT\r\n",
      "100%|██████████████████████████████████████| 1500/1500 [00:01<00:00, 789.33it/s]\r\n"
     ]
    }
   ],
   "source": [
    "!trdg -l en -c 1500 -t 14 -rs -rbl -b 1 -na 2 -r -sw 2.0 -w 2 -f 64 -let -num --output_dir ./synthetic_dataset/val"
   ],
   "metadata": {
    "collapsed": false,
    "ExecuteTime": {
     "start_time": "2023-04-05T03:11:31.135532Z",
     "end_time": "2023-04-05T03:11:35.730342Z"
    }
   }
  },
  {
   "cell_type": "markdown",
   "source": [
    "#### Transform val set to train format once"
   ],
   "metadata": {
    "collapsed": false
   }
  },
  {
   "cell_type": "code",
   "execution_count": 2,
   "outputs": [
    {
     "data": {
      "text/plain": "  0%|          | 0/1500 [00:00<?, ?it/s]",
      "application/vnd.jupyter.widget-view+json": {
       "version_major": 2,
       "version_minor": 0,
       "model_id": "8306081d1a704955a9d4d2130d50e363"
      }
     },
     "metadata": {},
     "output_type": "display_data"
    }
   ],
   "source": [
    "from utils import augment_dataset\n",
    "augment_dataset('./synthetic_dataset/val', 1.0)"
   ],
   "metadata": {
    "collapsed": false,
    "ExecuteTime": {
     "start_time": "2023-04-05T03:11:08.796474Z",
     "end_time": "2023-04-05T03:11:16.306076Z"
    }
   }
  },
  {
   "cell_type": "markdown",
   "source": [
    "### Test (augmented & normal variants)"
   ],
   "metadata": {
    "collapsed": false
   }
  },
  {
   "cell_type": "code",
   "execution_count": 4,
   "outputs": [
    {
     "name": "stdout",
     "output_type": "stream",
     "text": [
      "2023-04-05 03:12:37.513562: I tensorflow/core/util/port.cc:110] oneDNN custom operations are on. You may see slightly different numerical results due to floating-point round-off errors from different computation orders. To turn them off, set the environment variable `TF_ENABLE_ONEDNN_OPTS=0`.\r\n",
      "2023-04-05 03:12:37.514918: I tensorflow/tsl/cuda/cudart_stub.cc:28] Could not find cuda drivers on your machine, GPU will not be used.\r\n",
      "2023-04-05 03:12:37.538869: I tensorflow/tsl/cuda/cudart_stub.cc:28] Could not find cuda drivers on your machine, GPU will not be used.\r\n",
      "2023-04-05 03:12:37.539135: I tensorflow/core/platform/cpu_feature_guard.cc:182] This TensorFlow binary is optimized to use available CPU instructions in performance-critical operations.\r\n",
      "To enable the following instructions: AVX2 AVX_VNNI FMA, in other operations, rebuild TensorFlow with the appropriate compiler flags.\r\n",
      "2023-04-05 03:12:37.930360: W tensorflow/compiler/tf2tensorrt/utils/py_utils.cc:38] TF-TRT Warning: Could not find TensorRT\r\n",
      "100%|██████████████████████████████████████| 5000/5000 [00:06<00:00, 801.38it/s]\r\n"
     ]
    }
   ],
   "source": [
    "!trdg -l en -c 5000 -t 14 -rs -rbl -b 1 -na 2 -r -sw 2.0 -w 2 -f 64 -let -num --output_dir ./synthetic_dataset/test"
   ],
   "metadata": {
    "collapsed": false,
    "ExecuteTime": {
     "start_time": "2023-04-05T03:12:36.997869Z",
     "end_time": "2023-04-05T03:12:46.072670Z"
    }
   }
  },
  {
   "cell_type": "code",
   "execution_count": 7,
   "outputs": [
    {
     "name": "stdout",
     "output_type": "stream",
     "text": [
      "2023-04-05 03:14:35.219743: I tensorflow/core/util/port.cc:110] oneDNN custom operations are on. You may see slightly different numerical results due to floating-point round-off errors from different computation orders. To turn them off, set the environment variable `TF_ENABLE_ONEDNN_OPTS=0`.\r\n",
      "2023-04-05 03:14:35.221120: I tensorflow/tsl/cuda/cudart_stub.cc:28] Could not find cuda drivers on your machine, GPU will not be used.\r\n",
      "2023-04-05 03:14:35.245163: I tensorflow/tsl/cuda/cudart_stub.cc:28] Could not find cuda drivers on your machine, GPU will not be used.\r\n",
      "2023-04-05 03:14:35.245452: I tensorflow/core/platform/cpu_feature_guard.cc:182] This TensorFlow binary is optimized to use available CPU instructions in performance-critical operations.\r\n",
      "To enable the following instructions: AVX2 AVX_VNNI FMA, in other operations, rebuild TensorFlow with the appropriate compiler flags.\r\n",
      "2023-04-05 03:14:35.661204: W tensorflow/compiler/tf2tensorrt/utils/py_utils.cc:38] TF-TRT Warning: Could not find TensorRT\r\n",
      "100%|██████████████████████████████████████| 5000/5000 [00:06<00:00, 773.79it/s]\r\n"
     ]
    }
   ],
   "source": [
    "!trdg -l en -c 5000 -t 14 -rs -rbl -b 1 -na 2 -r -sw 2.0 -w 2 -f 64 -let -num --output_dir ./synthetic_dataset/test_captchas"
   ],
   "metadata": {
    "collapsed": false,
    "ExecuteTime": {
     "start_time": "2023-04-05T03:14:34.805591Z",
     "end_time": "2023-04-05T03:14:43.932015Z"
    }
   }
  },
  {
   "cell_type": "markdown",
   "source": [
    "#### Transform part of test set to train format once"
   ],
   "metadata": {
    "collapsed": false
   }
  },
  {
   "cell_type": "code",
   "execution_count": 8,
   "outputs": [
    {
     "data": {
      "text/plain": "  0%|          | 0/5000 [00:00<?, ?it/s]",
      "application/vnd.jupyter.widget-view+json": {
       "version_major": 2,
       "version_minor": 0,
       "model_id": "543f17e30eba4450849b67ba1505a408"
      }
     },
     "metadata": {},
     "output_type": "display_data"
    }
   ],
   "source": [
    "from utils import augment_dataset\n",
    "augment_dataset('./synthetic_dataset/test_captchas', 1.0)"
   ],
   "metadata": {
    "collapsed": false,
    "ExecuteTime": {
     "start_time": "2023-04-05T03:14:43.925621Z",
     "end_time": "2023-04-05T03:14:59.033773Z"
    }
   }
  }
 ],
 "metadata": {
  "kernelspec": {
   "display_name": "Python 3",
   "language": "python",
   "name": "python3"
  },
  "language_info": {
   "codemirror_mode": {
    "name": "ipython",
    "version": 2
   },
   "file_extension": ".py",
   "mimetype": "text/x-python",
   "name": "python",
   "nbconvert_exporter": "python",
   "pygments_lexer": "ipython2",
   "version": "2.7.6"
  }
 },
 "nbformat": 4,
 "nbformat_minor": 0
}
